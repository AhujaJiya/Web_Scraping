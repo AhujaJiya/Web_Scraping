{
 "cells": [
  {
   "cell_type": "code",
   "execution_count": 15,
   "id": "8dbf3dde",
   "metadata": {},
   "outputs": [
    {
     "name": "stdout",
     "output_type": "stream",
     "text": [
      "JSON saved to 'output.json'\n"
     ]
    }
   ],
   "source": [
    "import requests\n",
    "import json\n",
    "\n",
    "url = \"https://intake.steerhealth.io/api/doctor-search\"\n",
    "\n",
    "payload = json.dumps({\n",
    "  \"name\": \"\",\n",
    "  \"specialty\": \"\",\n",
    "  \"distance\": \"\",\n",
    "  \"location\": \"\",\n",
    "  \"errors\": {},\n",
    "  \"noMore\": False,\n",
    "  \"organizationId\": \"aa1f8845b2eb62a957004eb491bb8ba70a\",\n",
    "  \"size\": 500, \n",
    "  \"page\": 0 \n",
    "})\n",
    "headers = {\n",
    "  'User-Agent': 'Mozilla/5.0 (Windows NT 10.0; Win64; x64; rv:121.0) Gecko/20100101 Firefox/121.0',\n",
    "  'Accept': 'application/json',\n",
    "  'Accept-Language': 'en-US,en;q=0.5',\n",
    "  'Accept-Encoding': 'gzip, deflate, br',\n",
    "  'Referer': 'https://intake.steerhealth.io/doctor-search/aa1f8845b2eb62a957004eb491bb8ba70a',\n",
    "  'Content-Type': 'application/json',\n",
    "  'sentry-trace': '964988c872524ce28f465ac5c9aca0ac-ae413abc948669d3-1',\n",
    "  'baggage': 'sentry-environment=production,sentry-release=B05iE3g5D8m0xyjlX1CCG,sentry-public_key=aeddb4d7c78648f3a959d87a73f25df6,sentry-trace_id=964988c872524ce28f465ac5c9aca0ac,sentry-transaction=%2Fdoctor-search%2F%5Borganization%5D,sentry-sampled=true',\n",
    "  'Origin': 'https://intake.steerhealth.io',\n",
    "  'DNT': '1',\n",
    "  'Sec-GPC': '1',\n",
    "  'Connection': 'keep-alive',\n",
    "  'Sec-Fetch-Dest': 'empty',\n",
    "  'Sec-Fetch-Mode': 'cors',\n",
    "  'Sec-Fetch-Site': 'same-origin',\n",
    "  'Pragma': 'no-cache',\n",
    "  'Cache-Control': 'no-cache',\n",
    "  'TE': 'trailers'\n",
    "}\n",
    "\n",
    "response = requests.request(\"POST\", url, headers=headers, data=payload)\n",
    "\n",
    "# Save JSON response to a file\n",
    "with open('outputfinal.json', 'w') as json_file:\n",
    "    json.dump(response.json(), json_file)\n",
    "\n",
    "print(\"JSON saved to 'outputfinal.json'\")\n"
   ]
  },
  {
   "cell_type": "code",
   "execution_count": null,
   "id": "4312a79a",
   "metadata": {},
   "outputs": [],
   "source": []
  }
 ],
 "metadata": {
  "kernelspec": {
   "display_name": "Python 3 (ipykernel)",
   "language": "python",
   "name": "python3"
  },
  "language_info": {
   "codemirror_mode": {
    "name": "ipython",
    "version": 3
   },
   "file_extension": ".py",
   "mimetype": "text/x-python",
   "name": "python",
   "nbconvert_exporter": "python",
   "pygments_lexer": "ipython3",
   "version": "3.10.9"
  }
 },
 "nbformat": 4,
 "nbformat_minor": 5
}
